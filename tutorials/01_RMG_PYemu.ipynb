{
 "cells": [
  {
   "cell_type": "code",
   "execution_count": 1,
   "id": "ebe62a43-f1df-4575-bdea-b9bbc5da16bf",
   "metadata": {},
   "outputs": [],
   "source": [
    "import os\n",
    "import warnings\n",
    "warnings.filterwarnings(\"ignore\")\n",
    "warnings.filterwarnings(\"ignore\", category=DeprecationWarning) \n",
    "import matplotlib.pyplot as plt\n",
    "import numpy as np\n",
    "\n",
    "import sys\n",
    "# sys.path.append(os.path.join(\"..\", \"..\", \"dependencies\"))\n",
    "import pyemu"
   ]
  },
  {
   "cell_type": "code",
   "execution_count": 5,
   "id": "ff230fe6-1f7e-4905-861b-568accaa4b29",
   "metadata": {},
   "outputs": [],
   "source": [
    "# the pest folder\n",
    "f_d = os.path.join('part0_intro_to_pyemu/handling_files')"
   ]
  },
  {
   "cell_type": "code",
   "execution_count": 7,
   "id": "f1e72878-642e-42ad-b6ea-eb815dcf484a",
   "metadata": {},
   "outputs": [],
   "source": [
    "pst = pyemu.Pst(os.path.join(f_d,\"freyberg_pp.pst\"))"
   ]
  },
  {
   "cell_type": "code",
   "execution_count": 8,
   "id": "2ce51ae2-f213-4d24-af66-1ab4bacc4722",
   "metadata": {},
   "outputs": [
    {
     "data": {
      "text/html": [
       "<div>\n",
       "<style scoped>\n",
       "    .dataframe tbody tr th:only-of-type {\n",
       "        vertical-align: middle;\n",
       "    }\n",
       "\n",
       "    .dataframe tbody tr th {\n",
       "        vertical-align: top;\n",
       "    }\n",
       "\n",
       "    .dataframe thead th {\n",
       "        text-align: right;\n",
       "    }\n",
       "</style>\n",
       "<table border=\"1\" class=\"dataframe\">\n",
       "  <thead>\n",
       "    <tr style=\"text-align: right;\">\n",
       "      <th></th>\n",
       "      <th>parnme</th>\n",
       "      <th>partrans</th>\n",
       "      <th>parchglim</th>\n",
       "      <th>parval1</th>\n",
       "      <th>parlbnd</th>\n",
       "      <th>parubnd</th>\n",
       "      <th>pargp</th>\n",
       "      <th>scale</th>\n",
       "      <th>offset</th>\n",
       "      <th>dercom</th>\n",
       "      <th>extra</th>\n",
       "    </tr>\n",
       "    <tr>\n",
       "      <th>parnme</th>\n",
       "      <th></th>\n",
       "      <th></th>\n",
       "      <th></th>\n",
       "      <th></th>\n",
       "      <th></th>\n",
       "      <th></th>\n",
       "      <th></th>\n",
       "      <th></th>\n",
       "      <th></th>\n",
       "      <th></th>\n",
       "      <th></th>\n",
       "    </tr>\n",
       "  </thead>\n",
       "  <tbody>\n",
       "    <tr>\n",
       "      <th>hk00</th>\n",
       "      <td>hk00</td>\n",
       "      <td>log</td>\n",
       "      <td>factor</td>\n",
       "      <td>5.0</td>\n",
       "      <td>0.5</td>\n",
       "      <td>50.0</td>\n",
       "      <td>hk</td>\n",
       "      <td>1.0</td>\n",
       "      <td>0.0</td>\n",
       "      <td>1</td>\n",
       "      <td>NaN</td>\n",
       "    </tr>\n",
       "    <tr>\n",
       "      <th>hk01</th>\n",
       "      <td>hk01</td>\n",
       "      <td>log</td>\n",
       "      <td>factor</td>\n",
       "      <td>5.0</td>\n",
       "      <td>0.5</td>\n",
       "      <td>50.0</td>\n",
       "      <td>hk</td>\n",
       "      <td>1.0</td>\n",
       "      <td>0.0</td>\n",
       "      <td>1</td>\n",
       "      <td>NaN</td>\n",
       "    </tr>\n",
       "    <tr>\n",
       "      <th>hk02</th>\n",
       "      <td>hk02</td>\n",
       "      <td>log</td>\n",
       "      <td>factor</td>\n",
       "      <td>5.0</td>\n",
       "      <td>0.5</td>\n",
       "      <td>50.0</td>\n",
       "      <td>hk</td>\n",
       "      <td>1.0</td>\n",
       "      <td>0.0</td>\n",
       "      <td>1</td>\n",
       "      <td>NaN</td>\n",
       "    </tr>\n",
       "    <tr>\n",
       "      <th>hk03</th>\n",
       "      <td>hk03</td>\n",
       "      <td>log</td>\n",
       "      <td>factor</td>\n",
       "      <td>5.0</td>\n",
       "      <td>0.5</td>\n",
       "      <td>50.0</td>\n",
       "      <td>hk</td>\n",
       "      <td>1.0</td>\n",
       "      <td>0.0</td>\n",
       "      <td>1</td>\n",
       "      <td>NaN</td>\n",
       "    </tr>\n",
       "    <tr>\n",
       "      <th>hk04</th>\n",
       "      <td>hk04</td>\n",
       "      <td>log</td>\n",
       "      <td>factor</td>\n",
       "      <td>5.0</td>\n",
       "      <td>0.5</td>\n",
       "      <td>50.0</td>\n",
       "      <td>hk</td>\n",
       "      <td>1.0</td>\n",
       "      <td>0.0</td>\n",
       "      <td>1</td>\n",
       "      <td>NaN</td>\n",
       "    </tr>\n",
       "  </tbody>\n",
       "</table>\n",
       "</div>"
      ],
      "text/plain": [
       "       parnme partrans parchglim  parval1  parlbnd  parubnd pargp  scale  \\\n",
       "parnme                                                                     \n",
       "hk00     hk00      log    factor      5.0      0.5     50.0    hk    1.0   \n",
       "hk01     hk01      log    factor      5.0      0.5     50.0    hk    1.0   \n",
       "hk02     hk02      log    factor      5.0      0.5     50.0    hk    1.0   \n",
       "hk03     hk03      log    factor      5.0      0.5     50.0    hk    1.0   \n",
       "hk04     hk04      log    factor      5.0      0.5     50.0    hk    1.0   \n",
       "\n",
       "        offset dercom  extra  \n",
       "parnme                        \n",
       "hk00       0.0      1    NaN  \n",
       "hk01       0.0      1    NaN  \n",
       "hk02       0.0      1    NaN  \n",
       "hk03       0.0      1    NaN  \n",
       "hk04       0.0      1    NaN  "
      ]
     },
     "execution_count": 8,
     "metadata": {},
     "output_type": "execute_result"
    }
   ],
   "source": [
    "pst.parameter_data.head()"
   ]
  },
  {
   "cell_type": "code",
   "execution_count": 9,
   "id": "76fd0fe1-3625-46eb-b01e-756cde08fed7",
   "metadata": {},
   "outputs": [
    {
     "data": {
      "text/html": [
       "<div>\n",
       "<style scoped>\n",
       "    .dataframe tbody tr th:only-of-type {\n",
       "        vertical-align: middle;\n",
       "    }\n",
       "\n",
       "    .dataframe tbody tr th {\n",
       "        vertical-align: top;\n",
       "    }\n",
       "\n",
       "    .dataframe thead th {\n",
       "        text-align: right;\n",
       "    }\n",
       "</style>\n",
       "<table border=\"1\" class=\"dataframe\">\n",
       "  <thead>\n",
       "    <tr style=\"text-align: right;\">\n",
       "      <th></th>\n",
       "      <th>obsnme</th>\n",
       "      <th>obsval</th>\n",
       "      <th>weight</th>\n",
       "      <th>obgnme</th>\n",
       "      <th>extra</th>\n",
       "    </tr>\n",
       "    <tr>\n",
       "      <th>obsnme</th>\n",
       "      <th></th>\n",
       "      <th></th>\n",
       "      <th></th>\n",
       "      <th></th>\n",
       "      <th></th>\n",
       "    </tr>\n",
       "  </thead>\n",
       "  <tbody>\n",
       "    <tr>\n",
       "      <th>c001cr03c10_19700102</th>\n",
       "      <td>c001cr03c10_19700102</td>\n",
       "      <td>26.661526</td>\n",
       "      <td>5.0</td>\n",
       "      <td>calhead</td>\n",
       "      <td>NaN</td>\n",
       "    </tr>\n",
       "    <tr>\n",
       "      <th>c001cr03c16_19700102</th>\n",
       "      <td>c001cr03c16_19700102</td>\n",
       "      <td>23.460564</td>\n",
       "      <td>5.0</td>\n",
       "      <td>calhead</td>\n",
       "      <td>NaN</td>\n",
       "    </tr>\n",
       "    <tr>\n",
       "      <th>c001cr04c09_19700102</th>\n",
       "      <td>c001cr04c09_19700102</td>\n",
       "      <td>28.513522</td>\n",
       "      <td>5.0</td>\n",
       "      <td>calhead</td>\n",
       "      <td>NaN</td>\n",
       "    </tr>\n",
       "    <tr>\n",
       "      <th>c001cr10c02_19700102</th>\n",
       "      <td>c001cr10c02_19700102</td>\n",
       "      <td>30.741689</td>\n",
       "      <td>5.0</td>\n",
       "      <td>calhead</td>\n",
       "      <td>NaN</td>\n",
       "    </tr>\n",
       "    <tr>\n",
       "      <th>c001cr14c11_19700102</th>\n",
       "      <td>c001cr14c11_19700102</td>\n",
       "      <td>25.871208</td>\n",
       "      <td>5.0</td>\n",
       "      <td>calhead</td>\n",
       "      <td>NaN</td>\n",
       "    </tr>\n",
       "  </tbody>\n",
       "</table>\n",
       "</div>"
      ],
      "text/plain": [
       "                                    obsnme     obsval  weight   obgnme  extra\n",
       "obsnme                                                                       \n",
       "c001cr03c10_19700102  c001cr03c10_19700102  26.661526     5.0  calhead    NaN\n",
       "c001cr03c16_19700102  c001cr03c16_19700102  23.460564     5.0  calhead    NaN\n",
       "c001cr04c09_19700102  c001cr04c09_19700102  28.513522     5.0  calhead    NaN\n",
       "c001cr10c02_19700102  c001cr10c02_19700102  30.741689     5.0  calhead    NaN\n",
       "c001cr14c11_19700102  c001cr14c11_19700102  25.871208     5.0  calhead    NaN"
      ]
     },
     "execution_count": 9,
     "metadata": {},
     "output_type": "execute_result"
    }
   ],
   "source": [
    "pst.observation_data.head()"
   ]
  },
  {
   "cell_type": "code",
   "execution_count": 10,
   "id": "bfc50753-4586-41df-b760-16304e31cf78",
   "metadata": {},
   "outputs": [
    {
     "data": {
      "text/plain": [
       "Index(['parnme', 'partrans', 'parchglim', 'parval1', 'parlbnd', 'parubnd',\n",
       "       'pargp', 'scale', 'offset', 'dercom', 'extra'],\n",
       "      dtype='object')"
      ]
     },
     "execution_count": 10,
     "metadata": {},
     "output_type": "execute_result"
    }
   ],
   "source": [
    "pst.parameter_data.columns"
   ]
  },
  {
   "cell_type": "code",
   "execution_count": 12,
   "id": "ff8d3d78-565e-47d3-a524-0271d8857c57",
   "metadata": {},
   "outputs": [
    {
     "data": {
      "text/plain": [
       "Index(['obsnme', 'obsval', 'weight', 'obgnme', 'extra'], dtype='object')"
      ]
     },
     "execution_count": 12,
     "metadata": {},
     "output_type": "execute_result"
    }
   ],
   "source": [
    "pst.observation_data.columns"
   ]
  },
  {
   "cell_type": "code",
   "execution_count": 13,
   "id": "5fa01094-2179-4597-9f48-537f68cc4cc6",
   "metadata": {},
   "outputs": [],
   "source": [
    "#assigning values to all parameter intial values\n",
    "pst.parameter_data['parval1'] = 1.1"
   ]
  },
  {
   "cell_type": "code",
   "execution_count": 14,
   "id": "4de647c5-aba6-4862-b474-bee180bcc03c",
   "metadata": {},
   "outputs": [
    {
     "data": {
      "text/html": [
       "<div>\n",
       "<style scoped>\n",
       "    .dataframe tbody tr th:only-of-type {\n",
       "        vertical-align: middle;\n",
       "    }\n",
       "\n",
       "    .dataframe tbody tr th {\n",
       "        vertical-align: top;\n",
       "    }\n",
       "\n",
       "    .dataframe thead th {\n",
       "        text-align: right;\n",
       "    }\n",
       "</style>\n",
       "<table border=\"1\" class=\"dataframe\">\n",
       "  <thead>\n",
       "    <tr style=\"text-align: right;\">\n",
       "      <th></th>\n",
       "      <th>parnme</th>\n",
       "      <th>partrans</th>\n",
       "      <th>parchglim</th>\n",
       "      <th>parval1</th>\n",
       "      <th>parlbnd</th>\n",
       "      <th>parubnd</th>\n",
       "      <th>pargp</th>\n",
       "      <th>scale</th>\n",
       "      <th>offset</th>\n",
       "      <th>dercom</th>\n",
       "      <th>extra</th>\n",
       "    </tr>\n",
       "    <tr>\n",
       "      <th>parnme</th>\n",
       "      <th></th>\n",
       "      <th></th>\n",
       "      <th></th>\n",
       "      <th></th>\n",
       "      <th></th>\n",
       "      <th></th>\n",
       "      <th></th>\n",
       "      <th></th>\n",
       "      <th></th>\n",
       "      <th></th>\n",
       "      <th></th>\n",
       "    </tr>\n",
       "  </thead>\n",
       "  <tbody>\n",
       "    <tr>\n",
       "      <th>hk00</th>\n",
       "      <td>hk00</td>\n",
       "      <td>log</td>\n",
       "      <td>factor</td>\n",
       "      <td>1.1</td>\n",
       "      <td>0.5</td>\n",
       "      <td>50.0</td>\n",
       "      <td>hk</td>\n",
       "      <td>1.0</td>\n",
       "      <td>0.0</td>\n",
       "      <td>1</td>\n",
       "      <td>NaN</td>\n",
       "    </tr>\n",
       "    <tr>\n",
       "      <th>hk01</th>\n",
       "      <td>hk01</td>\n",
       "      <td>log</td>\n",
       "      <td>factor</td>\n",
       "      <td>1.1</td>\n",
       "      <td>0.5</td>\n",
       "      <td>50.0</td>\n",
       "      <td>hk</td>\n",
       "      <td>1.0</td>\n",
       "      <td>0.0</td>\n",
       "      <td>1</td>\n",
       "      <td>NaN</td>\n",
       "    </tr>\n",
       "    <tr>\n",
       "      <th>hk02</th>\n",
       "      <td>hk02</td>\n",
       "      <td>log</td>\n",
       "      <td>factor</td>\n",
       "      <td>1.1</td>\n",
       "      <td>0.5</td>\n",
       "      <td>50.0</td>\n",
       "      <td>hk</td>\n",
       "      <td>1.0</td>\n",
       "      <td>0.0</td>\n",
       "      <td>1</td>\n",
       "      <td>NaN</td>\n",
       "    </tr>\n",
       "  </tbody>\n",
       "</table>\n",
       "</div>"
      ],
      "text/plain": [
       "       parnme partrans parchglim  parval1  parlbnd  parubnd pargp  scale  \\\n",
       "parnme                                                                     \n",
       "hk00     hk00      log    factor      1.1      0.5     50.0    hk    1.0   \n",
       "hk01     hk01      log    factor      1.1      0.5     50.0    hk    1.0   \n",
       "hk02     hk02      log    factor      1.1      0.5     50.0    hk    1.0   \n",
       "\n",
       "        offset dercom  extra  \n",
       "parnme                        \n",
       "hk00       0.0      1    NaN  \n",
       "hk01       0.0      1    NaN  \n",
       "hk02       0.0      1    NaN  "
      ]
     },
     "execution_count": 14,
     "metadata": {},
     "output_type": "execute_result"
    }
   ],
   "source": [
    "# the pandas .loc method makes for easy slicing and dicing\n",
    "pst.parameter_data.iloc[:3,:] "
   ]
  },
  {
   "cell_type": "code",
   "execution_count": 15,
   "id": "b70cb7d9-bac9-4d88-b3a8-790db2319c28",
   "metadata": {},
   "outputs": [],
   "source": [
    "pst.control_data.noptmax = 0"
   ]
  },
  {
   "cell_type": "code",
   "execution_count": 17,
   "id": "fba713d1-72a2-4b06-808e-ccaad2a3e327",
   "metadata": {},
   "outputs": [],
   "source": [
    "pst.control_data.noptmax = 1"
   ]
  },
  {
   "cell_type": "code",
   "execution_count": 18,
   "id": "5d4de04b-b5de-421b-91f1-ca80147eddd7",
   "metadata": {},
   "outputs": [],
   "source": [
    "pst.control_data.noptmax = -1"
   ]
  },
  {
   "cell_type": "code",
   "execution_count": 19,
   "id": "8f9975ba-0fd6-4c62-9ec7-23538dbabe6b",
   "metadata": {},
   "outputs": [],
   "source": [
    "pst.control_data.noptmax = 0"
   ]
  },
  {
   "cell_type": "code",
   "execution_count": 20,
   "id": "43463a3c-3a74-4352-8690-f5be3e8b974e",
   "metadata": {},
   "outputs": [
    {
     "data": {
      "text/plain": [
       "name\n",
       "rstfle                        restart\n",
       "pestmode               regularization\n",
       "npar                               48\n",
       "nobs                             1013\n",
       "npargp                              6\n",
       "nprior                            422\n",
       "nobsgp                             26\n",
       "maxcompdim                          0\n",
       "ntplfle                             6\n",
       "ninsfle                             5\n",
       "precis                         single\n",
       "dpoint                          point\n",
       "numcom                              1\n",
       "jacfile                             0\n",
       "messfile                            0\n",
       "obsreref                   noobsreref\n",
       "rlambda1                 2.000000E+01\n",
       "rlamfac                 -3.000000E+00\n",
       "phiratsuf                3.000000E-01\n",
       "phiredlam                1.000000E-02\n",
       "numlam                             -7\n",
       "jacupdate                         999\n",
       "lamforgive                 lamforgive\n",
       "derforgive               noderforgive\n",
       "relparmax                1.000000E+01\n",
       "facparmax                1.000000E+01\n",
       "facorig                  1.000000E-03\n",
       "iboundstick                         0\n",
       "upvecbend                           0\n",
       "phiredswh                1.000000E-01\n",
       "noptswitch                          1\n",
       "splitswh                 1.100000E+00\n",
       "doaui                           noaui\n",
       "dosenreuse                 nosenreuse\n",
       "boundscale               noboundscale\n",
       "noptmax                             0\n",
       "phiredstp                1.000000E-02\n",
       "nphistp                             3\n",
       "nphinored                           3\n",
       "relparstp                1.000000E-02\n",
       "nrelpar                             3\n",
       "phistopthresh            0.000000E+00\n",
       "lastrun                             1\n",
       "phiabandon              -1.000000E+00\n",
       "icov                                0\n",
       "icor                                0\n",
       "ieig                                0\n",
       "ires                                0\n",
       "jcosave                       jcosave\n",
       "verboserec                 verboserec\n",
       "jcosaveitn                 jcosaveitn\n",
       "reisaveitn                 reisaveitn\n",
       "parsaveitn                 parsaveitn\n",
       "parsaverun               noparsaverun\n",
       "dtype: object"
      ]
     },
     "execution_count": 20,
     "metadata": {},
     "output_type": "execute_result"
    }
   ],
   "source": [
    "pst.control_data.formatted_values"
   ]
  },
  {
   "cell_type": "code",
   "execution_count": 21,
   "id": "744dc579-1dae-4e19-ab26-7f4b66cd38de",
   "metadata": {},
   "outputs": [
    {
     "data": {
      "text/plain": [
       "{'n_iter_base': '-1',\n",
       " 'lambda_scale_fac': '1.0',\n",
       " 'n_iter_super': '3',\n",
       " 'lambdas': '0.1,1.0,10.0',\n",
       " 'forecasts': 'travel_time,fa_headwaters_0001,c001fr16c17_19791231,c001fr05c04_19791231',\n",
       " 'upgrade_augment': 'false'}"
      ]
     },
     "execution_count": 21,
     "metadata": {},
     "output_type": "execute_result"
    }
   ],
   "source": [
    "pst.pestpp_options"
   ]
  },
  {
   "cell_type": "code",
   "execution_count": 22,
   "id": "8b033d5a-c3b9-455c-b536-64245fa37f50",
   "metadata": {},
   "outputs": [],
   "source": [
    "# changes the value for the PEST++ option 'ies_parameter_ensemble'\n",
    "pst.pestpp_options['ies_parameter_ensemble'] = 'dummy_ies_par_ensemble.csv'"
   ]
  },
  {
   "cell_type": "code",
   "execution_count": 23,
   "id": "362df868-a20b-4608-b381-47a48466b110",
   "metadata": {},
   "outputs": [
    {
     "data": {
      "text/plain": [
       "{'n_iter_base': '-1',\n",
       " 'lambda_scale_fac': '1.0',\n",
       " 'n_iter_super': '3',\n",
       " 'lambdas': '0.1,1.0,10.0',\n",
       " 'forecasts': 'travel_time,fa_headwaters_0001,c001fr16c17_19791231,c001fr05c04_19791231',\n",
       " 'upgrade_augment': 'false',\n",
       " 'ies_parameter_ensemble': 'dummy_ies_par_ensemble.csv'}"
      ]
     },
     "execution_count": 23,
     "metadata": {},
     "output_type": "execute_result"
    }
   ],
   "source": [
    "pst.pestpp_options"
   ]
  },
  {
   "cell_type": "code",
   "execution_count": 24,
   "id": "a1b81c11-9a44-42d9-9623-477e85c068fd",
   "metadata": {},
   "outputs": [],
   "source": [
    "pst.pestpp_options['beta_2'] = 'no.csv'"
   ]
  },
  {
   "cell_type": "code",
   "execution_count": 25,
   "id": "833f912a-d804-4279-ba69-e34543598551",
   "metadata": {},
   "outputs": [
    {
     "data": {
      "text/plain": [
       "{'n_iter_base': '-1',\n",
       " 'lambda_scale_fac': '1.0',\n",
       " 'n_iter_super': '3',\n",
       " 'lambdas': '0.1,1.0,10.0',\n",
       " 'forecasts': 'travel_time,fa_headwaters_0001,c001fr16c17_19791231,c001fr05c04_19791231',\n",
       " 'upgrade_augment': 'false',\n",
       " 'ies_parameter_ensemble': 'dummy_ies_par_ensemble.csv',\n",
       " 'beta_2': 'no.csv'}"
      ]
     },
     "execution_count": 25,
     "metadata": {},
     "output_type": "execute_result"
    }
   ],
   "source": [
    "pst.pestpp_options"
   ]
  },
  {
   "cell_type": "code",
   "execution_count": 26,
   "id": "a9c4fe68-053f-43c7-a55c-d6820a51d1c3",
   "metadata": {},
   "outputs": [],
   "source": [
    "# pestpp-ies; the number of realizations to draw in order to form parameter and observation ensembles.\n",
    "pst.pestpp_options['ies_num_reals'] = 50"
   ]
  },
  {
   "cell_type": "code",
   "execution_count": 27,
   "id": "e96cfb78-93b1-4a05-b236-b56116513cda",
   "metadata": {},
   "outputs": [
    {
     "data": {
      "text/plain": [
       "{'n_iter_base': '-1',\n",
       " 'lambda_scale_fac': '1.0',\n",
       " 'n_iter_super': '3',\n",
       " 'lambdas': '0.1,1.0,10.0',\n",
       " 'forecasts': 'travel_time,fa_headwaters_0001,c001fr16c17_19791231,c001fr05c04_19791231',\n",
       " 'upgrade_augment': 'false',\n",
       " 'ies_parameter_ensemble': 'dummy_ies_par_ensemble.csv',\n",
       " 'beta_2': 'no.csv',\n",
       " 'ies_num_reals': 50}"
      ]
     },
     "execution_count": 27,
     "metadata": {},
     "output_type": "execute_result"
    }
   ],
   "source": [
    "pst.pestpp_options"
   ]
  },
  {
   "cell_type": "code",
   "execution_count": 28,
   "id": "27874af2-00b0-4e7e-a42e-ac5caf6735fd",
   "metadata": {},
   "outputs": [],
   "source": [
    "pst.pestpp_options[\"lambdas\"] = [0.1, 1, 10, 100, 1000]"
   ]
  },
  {
   "cell_type": "code",
   "execution_count": 29,
   "id": "af507a2b-df62-4f0c-932d-8197ef87d86c",
   "metadata": {},
   "outputs": [],
   "source": [
    "pst.pestpp_options['da_use_simulated_states'] = True"
   ]
  },
  {
   "cell_type": "code",
   "execution_count": 30,
   "id": "3e591dc2-c277-4e7f-953c-8b9127aefbb0",
   "metadata": {},
   "outputs": [
    {
     "data": {
      "text/plain": [
       "{'n_iter_base': '-1',\n",
       " 'lambda_scale_fac': '1.0',\n",
       " 'n_iter_super': '3',\n",
       " 'lambdas': [0.1, 1, 10, 100, 1000],\n",
       " 'forecasts': 'travel_time,fa_headwaters_0001,c001fr16c17_19791231,c001fr05c04_19791231',\n",
       " 'upgrade_augment': 'false',\n",
       " 'ies_parameter_ensemble': 'dummy_ies_par_ensemble.csv',\n",
       " 'beta_2': 'no.csv',\n",
       " 'ies_num_reals': 50,\n",
       " 'da_use_simulated_states': True}"
      ]
     },
     "execution_count": 30,
     "metadata": {},
     "output_type": "execute_result"
    }
   ],
   "source": [
    "pst.pestpp_options"
   ]
  },
  {
   "cell_type": "code",
   "execution_count": 31,
   "id": "6c33505c-2ff4-499f-be4f-bbb5c88239c6",
   "metadata": {},
   "outputs": [
    {
     "name": "stdout",
     "output_type": "stream",
     "text": [
      "noptmax:0, npar_adj:48, nnz_obs:14\n"
     ]
    }
   ],
   "source": [
    "pst.write(os.path.join(f_d, 'temp.pst'), version=1)"
   ]
  },
  {
   "cell_type": "code",
   "execution_count": 32,
   "id": "ed59c5f2-c8ca-4a63-819c-051f15c65010",
   "metadata": {},
   "outputs": [
    {
     "name": "stdout",
     "output_type": "stream",
     "text": [
      "noptmax:0, npar_adj:48, nnz_obs:14\n"
     ]
    }
   ],
   "source": [
    "pst.write(os.path.join(f_d, \"temp_v2.pst\"), version=2)"
   ]
  },
  {
   "cell_type": "code",
   "execution_count": 33,
   "id": "ddcbd514-d6dd-4cbb-905c-19e18fb98b58",
   "metadata": {},
   "outputs": [
    {
     "data": {
      "text/plain": [
       "['freyberg_pp.pst', 'temp.pst', 'temp_v2.pst', 'test.pst', 'test2.pst']"
      ]
     },
     "execution_count": 33,
     "metadata": {},
     "output_type": "execute_result"
    }
   ],
   "source": [
    "[f for f in os.listdir(f_d) if f.endswith('.pst')]"
   ]
  },
  {
   "cell_type": "code",
   "execution_count": 34,
   "id": "c2c67204-778d-4259-8dde-c10d47e7435e",
   "metadata": {},
   "outputs": [],
   "source": [
    "tpl_filename = os.path.join(f_d,\"special_pars.dat.tpl\")\n",
    "with open(tpl_filename,'w') as f:\n",
    "    f.write(\"ptf ~\\n\")\n",
    "    f.write(\"special_par1  ~  special_par1   ~\\n\")\n",
    "    f.write(\"special_par2  ~  special_par2   ~\\n\")"
   ]
  },
  {
   "cell_type": "code",
   "execution_count": 35,
   "id": "9713ac42-3b18-4ffe-8c18-5f62b4a385d7",
   "metadata": {},
   "outputs": [
    {
     "name": "stdout",
     "output_type": "stream",
     "text": [
      "2 pars added from template file .\\special_pars.dat.tpl\n"
     ]
    },
    {
     "data": {
      "text/html": [
       "<div>\n",
       "<style scoped>\n",
       "    .dataframe tbody tr th:only-of-type {\n",
       "        vertical-align: middle;\n",
       "    }\n",
       "\n",
       "    .dataframe tbody tr th {\n",
       "        vertical-align: top;\n",
       "    }\n",
       "\n",
       "    .dataframe thead th {\n",
       "        text-align: right;\n",
       "    }\n",
       "</style>\n",
       "<table border=\"1\" class=\"dataframe\">\n",
       "  <thead>\n",
       "    <tr style=\"text-align: right;\">\n",
       "      <th></th>\n",
       "      <th>parnme</th>\n",
       "      <th>partrans</th>\n",
       "      <th>parchglim</th>\n",
       "      <th>parval1</th>\n",
       "      <th>parlbnd</th>\n",
       "      <th>parubnd</th>\n",
       "      <th>pargp</th>\n",
       "      <th>scale</th>\n",
       "      <th>offset</th>\n",
       "      <th>dercom</th>\n",
       "    </tr>\n",
       "  </thead>\n",
       "  <tbody>\n",
       "    <tr>\n",
       "      <th>special_par1</th>\n",
       "      <td>special_par1</td>\n",
       "      <td>log</td>\n",
       "      <td>factor</td>\n",
       "      <td>1.0</td>\n",
       "      <td>1.100000e-10</td>\n",
       "      <td>1.100000e+10</td>\n",
       "      <td>pargp</td>\n",
       "      <td>1.0</td>\n",
       "      <td>0.0</td>\n",
       "      <td>1</td>\n",
       "    </tr>\n",
       "    <tr>\n",
       "      <th>special_par2</th>\n",
       "      <td>special_par2</td>\n",
       "      <td>log</td>\n",
       "      <td>factor</td>\n",
       "      <td>1.0</td>\n",
       "      <td>1.100000e-10</td>\n",
       "      <td>1.100000e+10</td>\n",
       "      <td>pargp</td>\n",
       "      <td>1.0</td>\n",
       "      <td>0.0</td>\n",
       "      <td>1</td>\n",
       "    </tr>\n",
       "  </tbody>\n",
       "</table>\n",
       "</div>"
      ],
      "text/plain": [
       "                    parnme partrans parchglim  parval1       parlbnd  \\\n",
       "special_par1  special_par1      log    factor      1.0  1.100000e-10   \n",
       "special_par2  special_par2      log    factor      1.0  1.100000e-10   \n",
       "\n",
       "                   parubnd  pargp  scale  offset  dercom  \n",
       "special_par1  1.100000e+10  pargp    1.0     0.0       1  \n",
       "special_par2  1.100000e+10  pargp    1.0     0.0       1  "
      ]
     },
     "execution_count": 35,
     "metadata": {},
     "output_type": "execute_result"
    }
   ],
   "source": [
    "pst.add_parameters(tpl_filename, pst_path=\".\") "
   ]
  },
  {
   "cell_type": "code",
   "execution_count": 36,
   "id": "da9accf1-8a5c-4419-b2e0-cef285c0d6a1",
   "metadata": {},
   "outputs": [],
   "source": [
    "par = pst.parameter_data"
   ]
  },
  {
   "cell_type": "code",
   "execution_count": 38,
   "id": "24a5eef5-257c-4899-a56a-2038a139c1fb",
   "metadata": {},
   "outputs": [],
   "source": [
    "par.loc[par['pargp'] == 'pargp', ['parlbnd', 'parubnd']] = 0.1, 10"
   ]
  },
  {
   "cell_type": "code",
   "execution_count": null,
   "id": "8c4db826-8717-40d2-bbc4-a9df08db9dbd",
   "metadata": {},
   "outputs": [],
   "source": []
  }
 ],
 "metadata": {
  "kernelspec": {
   "display_name": "Python 3 (ipykernel)",
   "language": "python",
   "name": "python3"
  },
  "language_info": {
   "codemirror_mode": {
    "name": "ipython",
    "version": 3
   },
   "file_extension": ".py",
   "mimetype": "text/x-python",
   "name": "python",
   "nbconvert_exporter": "python",
   "pygments_lexer": "ipython3",
   "version": "3.11.10"
  }
 },
 "nbformat": 4,
 "nbformat_minor": 5
}
